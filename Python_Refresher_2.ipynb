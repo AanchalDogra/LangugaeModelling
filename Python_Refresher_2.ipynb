{
  "nbformat": 4,
  "nbformat_minor": 0,
  "metadata": {
    "colab": {
      "provenance": [],
      "authorship_tag": "ABX9TyOdJJH5C/TeqKhrAxSbqJif",
      "include_colab_link": true
    },
    "kernelspec": {
      "name": "python3",
      "display_name": "Python 3"
    },
    "language_info": {
      "name": "python"
    }
  },
  "cells": [
    {
      "cell_type": "markdown",
      "metadata": {
        "id": "view-in-github",
        "colab_type": "text"
      },
      "source": [
        "<a href=\"https://colab.research.google.com/github/AanchalDogra/LangugaeModelling/blob/main/Python_Refresher_2.ipynb\" target=\"_parent\"><img src=\"https://colab.research.google.com/assets/colab-badge.svg\" alt=\"Open In Colab\"/></a>"
      ]
    },
    {
      "cell_type": "code",
      "execution_count": null,
      "metadata": {
        "id": "KhTsCTY9QujU"
      },
      "outputs": [],
      "source": [
        "num = 7"
      ]
    },
    {
      "cell_type": "code",
      "source": [
        "action = 'stop' if num == 7 else \"go\"\n",
        "action"
      ],
      "metadata": {
        "colab": {
          "base_uri": "https://localhost:8080/",
          "height": 35
        },
        "id": "_tBRULJxVC32",
        "outputId": "c5f85a8c-0d7f-467d-d4d8-9b0b285b28d9"
      },
      "execution_count": null,
      "outputs": [
        {
          "output_type": "execute_result",
          "data": {
            "text/plain": [
              "'stop'"
            ],
            "application/vnd.google.colaboratory.intrinsic+json": {
              "type": "string"
            }
          },
          "metadata": {},
          "execution_count": 3
        }
      ]
    },
    {
      "cell_type": "code",
      "source": [
        "print(6, end = \"\")\n",
        "print(6,end = \"--\")\n",
        "print(6, end =\"--\")\n"
      ],
      "metadata": {
        "colab": {
          "base_uri": "https://localhost:8080/"
        },
        "id": "aIPqbnIyVGz5",
        "outputId": "7cdc923a-c646-4136-a5e0-785c1f9ae697"
      },
      "execution_count": null,
      "outputs": [
        {
          "output_type": "stream",
          "name": "stdout",
          "text": [
            "66--6--"
          ]
        }
      ]
    },
    {
      "cell_type": "code",
      "source": [
        "#list comprehension\n",
        "list1 = [1,2,3,4,5]\n",
        "list2 = list1*2\n",
        "list2"
      ],
      "metadata": {
        "colab": {
          "base_uri": "https://localhost:8080/"
        },
        "id": "zmWRihieVUNw",
        "outputId": "6ea9b98b-870a-43e2-bc32-fe1adc1cf39e"
      },
      "execution_count": null,
      "outputs": [
        {
          "output_type": "execute_result",
          "data": {
            "text/plain": [
              "[1, 2, 3, 4, 5, 1, 2, 3, 4, 5]"
            ]
          },
          "metadata": {},
          "execution_count": 9
        }
      ]
    },
    {
      "cell_type": "code",
      "source": [
        "[i*2 for i in range(1,6)]"
      ],
      "metadata": {
        "colab": {
          "base_uri": "https://localhost:8080/"
        },
        "id": "uMsD2DknWMPc",
        "outputId": "e8aa0df9-a124-48ef-b2b7-5a3d73ef2168"
      },
      "execution_count": null,
      "outputs": [
        {
          "output_type": "execute_result",
          "data": {
            "text/plain": [
              "[2, 4, 6, 8, 10]"
            ]
          },
          "metadata": {},
          "execution_count": 10
        }
      ]
    },
    {
      "cell_type": "code",
      "source": [
        "list3 = [i-2 for i in list2]\n",
        "list3"
      ],
      "metadata": {
        "colab": {
          "base_uri": "https://localhost:8080/"
        },
        "id": "cAPlFFC0WS-w",
        "outputId": "9fd15b69-db6a-4b43-db7e-0518076f059b"
      },
      "execution_count": null,
      "outputs": [
        {
          "output_type": "execute_result",
          "data": {
            "text/plain": [
              "[-1, 0, 1, 2, 3, -1, 0, 1, 2, 3]"
            ]
          },
          "metadata": {},
          "execution_count": 13
        }
      ]
    },
    {
      "cell_type": "code",
      "source": [
        "def fun1(x):\n",
        "  if x**3 % 2 == 0:\n",
        "    return x**3+1\n",
        "  else:\n",
        "    return x**3-1"
      ],
      "metadata": {
        "id": "YBsxJNHwWWrq"
      },
      "execution_count": null,
      "outputs": []
    },
    {
      "cell_type": "code",
      "source": [
        "fun1(4)"
      ],
      "metadata": {
        "colab": {
          "base_uri": "https://localhost:8080/"
        },
        "id": "pGdAfQVDXq_H",
        "outputId": "8e02e863-514c-454a-8602-bcbbc62a1e82"
      },
      "execution_count": null,
      "outputs": [
        {
          "output_type": "execute_result",
          "data": {
            "text/plain": [
              "65"
            ]
          },
          "metadata": {},
          "execution_count": 15
        }
      ]
    },
    {
      "cell_type": "code",
      "source": [
        "[fun1(x) for x in range(1,10)]"
      ],
      "metadata": {
        "colab": {
          "base_uri": "https://localhost:8080/"
        },
        "id": "ZPKb0A_kX-g3",
        "outputId": "397e6f1c-ba5f-42db-9859-a46630338d43"
      },
      "execution_count": null,
      "outputs": [
        {
          "output_type": "execute_result",
          "data": {
            "text/plain": [
              "[0, 9, 26, 65, 124, 217, 342, 513, 728]"
            ]
          },
          "metadata": {},
          "execution_count": 17
        }
      ]
    },
    {
      "cell_type": "code",
      "source": [
        "list1.append(888)"
      ],
      "metadata": {
        "id": "n1lkUMQdYCsM"
      },
      "execution_count": null,
      "outputs": []
    },
    {
      "cell_type": "code",
      "source": [
        "list1"
      ],
      "metadata": {
        "colab": {
          "base_uri": "https://localhost:8080/"
        },
        "id": "82G0yu9keYc-",
        "outputId": "05802270-b1e7-4738-b1c5-8aaf23275a40"
      },
      "execution_count": null,
      "outputs": [
        {
          "output_type": "execute_result",
          "data": {
            "text/plain": [
              "[1, 2, 3, 4, 5, 888]"
            ]
          },
          "metadata": {},
          "execution_count": 19
        }
      ]
    },
    {
      "cell_type": "code",
      "source": [
        "list1.insert(2,976)\n"
      ],
      "metadata": {
        "id": "vramWXPVeZrZ"
      },
      "execution_count": null,
      "outputs": []
    },
    {
      "cell_type": "code",
      "source": [
        "list1"
      ],
      "metadata": {
        "colab": {
          "base_uri": "https://localhost:8080/"
        },
        "id": "sVggb32dekgM",
        "outputId": "0bd7618f-0101-4aad-a4f3-dd28c14a7a1e"
      },
      "execution_count": null,
      "outputs": [
        {
          "output_type": "execute_result",
          "data": {
            "text/plain": [
              "[1, 2, 976, 3, 4, 5, 888]"
            ]
          },
          "metadata": {},
          "execution_count": 21
        }
      ]
    },
    {
      "cell_type": "code",
      "source": [
        "# remember -- everything in python is an object"
      ],
      "metadata": {
        "id": "IAemQEV2elou"
      },
      "execution_count": null,
      "outputs": []
    },
    {
      "cell_type": "code",
      "source": [
        "list1.remove(4)"
      ],
      "metadata": {
        "id": "Dxtm25jVesLj"
      },
      "execution_count": null,
      "outputs": []
    },
    {
      "cell_type": "code",
      "source": [
        "list1"
      ],
      "metadata": {
        "colab": {
          "base_uri": "https://localhost:8080/"
        },
        "id": "VgOv0MWvfbZJ",
        "outputId": "1da0b6d7-b025-4530-8bd0-9f17c4475960"
      },
      "execution_count": null,
      "outputs": [
        {
          "output_type": "execute_result",
          "data": {
            "text/plain": [
              "[1, 2, 976, 3, 5, 888]"
            ]
          },
          "metadata": {},
          "execution_count": 24
        }
      ]
    },
    {
      "cell_type": "code",
      "source": [
        "list1[3] = 9979"
      ],
      "metadata": {
        "id": "Oxf4mKdnfcFH"
      },
      "execution_count": null,
      "outputs": []
    },
    {
      "cell_type": "code",
      "source": [
        "list1"
      ],
      "metadata": {
        "colab": {
          "base_uri": "https://localhost:8080/"
        },
        "id": "qluNvaG7gaGU",
        "outputId": "766d2339-1257-422d-c83f-f7f7366a858d"
      },
      "execution_count": null,
      "outputs": [
        {
          "output_type": "execute_result",
          "data": {
            "text/plain": [
              "[1, 2, 976, 9979, 5, 888]"
            ]
          },
          "metadata": {},
          "execution_count": 27
        }
      ]
    },
    {
      "cell_type": "code",
      "source": [
        "s = \"Aanchal Dogra\""
      ],
      "metadata": {
        "id": "AAnWSOf0gat-"
      },
      "execution_count": null,
      "outputs": []
    },
    {
      "cell_type": "code",
      "source": [
        "s[::-1]"
      ],
      "metadata": {
        "colab": {
          "base_uri": "https://localhost:8080/",
          "height": 35
        },
        "id": "TFQesghmhyaD",
        "outputId": "26882e81-dcb7-4813-a419-60f8e644d19a"
      },
      "execution_count": null,
      "outputs": [
        {
          "output_type": "execute_result",
          "data": {
            "text/plain": [
              "'argoD lahcnaA'"
            ],
            "application/vnd.google.colaboratory.intrinsic+json": {
              "type": "string"
            }
          },
          "metadata": {},
          "execution_count": 29
        }
      ]
    },
    {
      "cell_type": "code",
      "source": [
        "s[:9]"
      ],
      "metadata": {
        "colab": {
          "base_uri": "https://localhost:8080/",
          "height": 35
        },
        "id": "w0_B394ihzPy",
        "outputId": "7078a23a-cad7-48de-df19-d894180184a0"
      },
      "execution_count": null,
      "outputs": [
        {
          "output_type": "execute_result",
          "data": {
            "text/plain": [
              "'Aanchal D'"
            ],
            "application/vnd.google.colaboratory.intrinsic+json": {
              "type": "string"
            }
          },
          "metadata": {},
          "execution_count": 30
        }
      ]
    },
    {
      "cell_type": "code",
      "source": [
        "s[4:]"
      ],
      "metadata": {
        "colab": {
          "base_uri": "https://localhost:8080/",
          "height": 35
        },
        "id": "mJ6zHeI4gZGD",
        "outputId": "31ced07b-0b4d-4e21-8e0f-c8c3c0baed12"
      },
      "execution_count": null,
      "outputs": [
        {
          "output_type": "execute_result",
          "data": {
            "text/plain": [
              "'hal Dogra'"
            ],
            "application/vnd.google.colaboratory.intrinsic+json": {
              "type": "string"
            }
          },
          "metadata": {},
          "execution_count": 31
        }
      ]
    },
    {
      "cell_type": "markdown",
      "source": [
        "strings are immutable"
      ],
      "metadata": {
        "id": "p9wgFr1IiwoP"
      }
    },
    {
      "cell_type": "markdown",
      "source": [
        "## Map, Reduce and Filter"
      ],
      "metadata": {
        "id": "CrWNzID0pXER"
      }
    },
    {
      "cell_type": "code",
      "source": [
        "list1 = [1,2,3,4,5]\n"
      ],
      "metadata": {
        "id": "luMgEhbEpZm4"
      },
      "execution_count": 1,
      "outputs": []
    },
    {
      "cell_type": "code",
      "source": [
        "list2 = list(map(lambda x:2*x, list1))"
      ],
      "metadata": {
        "id": "pmBNNTcCpc3K"
      },
      "execution_count": 2,
      "outputs": []
    },
    {
      "cell_type": "code",
      "source": [
        "list3"
      ],
      "metadata": {
        "id": "XvZGeoRxphEE"
      },
      "execution_count": null,
      "outputs": []
    },
    {
      "cell_type": "code",
      "source": [
        "# prompt: create a list with 6 elements\n",
        "\n",
        "h = [1, 2, 3, 4, 5, 6]\n"
      ],
      "metadata": {
        "id": "eNu-gnw4h9FY"
      },
      "execution_count": 8,
      "outputs": []
    },
    {
      "cell_type": "code",
      "source": [
        "def size(h):\n",
        "  if h < 3:\n",
        "    return 's'\n",
        "  elif h >3 and h<5:\n",
        "    return 'm'\n",
        "  else:\n",
        "    return 'L'"
      ],
      "metadata": {
        "id": "Kp56gRDCeYmH"
      },
      "execution_count": 11,
      "outputs": []
    },
    {
      "cell_type": "code",
      "source": [
        "# prompt: create a new list using above function for list a\n",
        "\n",
        "list4 = list(map(size, h))\n",
        "list4\n"
      ],
      "metadata": {
        "colab": {
          "base_uri": "https://localhost:8080/"
        },
        "id": "j6e8G0hEfEFk",
        "outputId": "20bede27-3bb0-4c0d-eb20-0b3b7a362d6b"
      },
      "execution_count": 12,
      "outputs": [
        {
          "output_type": "execute_result",
          "data": {
            "text/plain": [
              "['s', 's', 'L', 'm', 'L', 'L']"
            ]
          },
          "metadata": {},
          "execution_count": 12
        }
      ]
    },
    {
      "cell_type": "code",
      "source": [
        "# prompt: filter function examples\n",
        "\n",
        "list1 = [1,2,3,4,5,6,7,8,9,10]\n",
        "list2 = [i for i in list1 if i%2==0]\n",
        "list2\n",
        "list3 = [i for i in list1 if i%2!=0]\n",
        "list3\n"
      ],
      "metadata": {
        "id": "m2Di_q9bfPGp"
      },
      "execution_count": null,
      "outputs": []
    },
    {
      "cell_type": "code",
      "source": [
        "# prompt: do above using filter()\n",
        "\n",
        "list2 = list(filter(lambda x: x % 2 == 0, list1))\n",
        "list2\n",
        "list3 = list(filter(lambda x: x % 2 != 0, list1))\n",
        "list3\n"
      ],
      "metadata": {
        "colab": {
          "base_uri": "https://localhost:8080/"
        },
        "id": "hwrtluuXhAQ3",
        "outputId": "ad19e7e2-1937-4f27-edea-7d4d94a02724"
      },
      "execution_count": 13,
      "outputs": [
        {
          "output_type": "execute_result",
          "data": {
            "text/plain": [
              "[1, 3, 5]"
            ]
          },
          "metadata": {},
          "execution_count": 13
        }
      ]
    },
    {
      "cell_type": "code",
      "source": [
        "# prompt: give examples of reduce() too\n",
        "\n",
        "from functools import reduce\n",
        "list1 = [1,2,3,4,5,6]\n",
        "x = reduce(lambda a, b: a + b, list1)\n",
        "x\n",
        "# def mul(a, b):\n",
        "#   return a*b\n",
        "# x = reduce(mul, list1)\n",
        "# x\n",
        "# # reduce can also be used for strings\n",
        "# s = \"hello\"\n",
        "# x = reduce(lambda a, b: a + b, s)\n",
        "# x\n",
        "# s1 = \"h\"\n",
        "# s2 = \"e\"\n",
        "# x = reduce(lambda a, b: a + b, [s1, s2])\n",
        "# x\n"
      ],
      "metadata": {
        "colab": {
          "base_uri": "https://localhost:8080/"
        },
        "id": "flwMBkEshZV0",
        "outputId": "654e85b8-ba2d-4efe-e84e-e6288c7e6138"
      },
      "execution_count": 14,
      "outputs": [
        {
          "output_type": "execute_result",
          "data": {
            "text/plain": [
              "21"
            ]
          },
          "metadata": {},
          "execution_count": 14
        }
      ]
    },
    {
      "cell_type": "code",
      "source": [
        "import sys\n",
        "sys.executable"
      ],
      "metadata": {
        "colab": {
          "base_uri": "https://localhost:8080/",
          "height": 35
        },
        "id": "DJ7RuGiGh7KK",
        "outputId": "56d1af84-d495-4f07-92f2-8963c26a4648"
      },
      "execution_count": 15,
      "outputs": [
        {
          "output_type": "execute_result",
          "data": {
            "text/plain": [
              "'/usr/bin/python3'"
            ],
            "application/vnd.google.colaboratory.intrinsic+json": {
              "type": "string"
            }
          },
          "metadata": {},
          "execution_count": 15
        }
      ]
    },
    {
      "cell_type": "markdown",
      "source": [],
      "metadata": {
        "id": "W84B6i9Zg_4C"
      }
    }
  ]
}