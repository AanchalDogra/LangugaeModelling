{
  "nbformat": 4,
  "nbformat_minor": 0,
  "metadata": {
    "colab": {
      "provenance": [],
      "authorship_tag": "ABX9TyO5xPtxfqJv2LTAWThPshPY",
      "include_colab_link": true
    },
    "kernelspec": {
      "name": "python3",
      "display_name": "Python 3"
    },
    "language_info": {
      "name": "python"
    }
  },
  "cells": [
    {
      "cell_type": "markdown",
      "metadata": {
        "id": "view-in-github",
        "colab_type": "text"
      },
      "source": [
        "<a href=\"https://colab.research.google.com/github/AanchalDogra/LangugaeModelling/blob/main/LanguageModelling.ipynb\" target=\"_parent\"><img src=\"https://colab.research.google.com/assets/colab-badge.svg\" alt=\"Open In Colab\"/></a>"
      ]
    },
    {
      "cell_type": "code",
      "execution_count": 1,
      "metadata": {
        "id": "bwR2TaPNLciZ"
      },
      "outputs": [],
      "source": [
        "import os\n",
        "import email\n",
        "import pandas as pd\n",
        "import numpy as np\n",
        "from tqdm import tqdm\n",
        "import gc\n",
        "from os import path\n",
        "import re\n",
        "import csv\n",
        "import tensorflow as tf\n",
        "from datetime import datetime\n",
        "import pickle\n",
        "from IPython.display import display\n",
        "import matplotlib.pyplot as plt\n",
        "from wordcloud import WordCloud, STOPWORDS\n",
        "\n",
        "from collections import Counter\n",
        "from nltk.tokenize import sent_tokenize\n",
        "from nltk.translate.bleu_score import sentence_bleu\n",
        "from sklearn.utils import shuffle\n",
        "import nltk\n",
        "import random\n",
        "from statistics import"
      ]
    },
    {
      "cell_type": "code",
      "source": [],
      "metadata": {
        "id": "XaRFBkCWMKFF"
      },
      "execution_count": null,
      "outputs": []
    }
  ]
}